{
 "cells": [
  {
   "cell_type": "code",
   "execution_count": 138,
   "metadata": {},
   "outputs": [],
   "source": [
    "import pandas as pd\n",
    "import numpy as np\n",
    "import matplotlib.pyplot as plt\n",
    "import warnings\n",
    "import re\n",
    "import os\n",
    "warnings.filterwarnings('ignore')"
   ]
  },
  {
   "cell_type": "markdown",
   "metadata": {},
   "source": [
    "We have all been in situation where we go to a doctor in emergency and find that the consultation fees are too high. As a data scientist we all should do better. What if you have data that records important details about a doctor and you get to build a model to predict the doctor’s consulting fee.? This is the hackathon that lets you do that.\n",
    "\n",
    "Size of training set: 5961 records Size of test set: 1987 records"
   ]
  },
  {
   "cell_type": "code",
   "execution_count": 88,
   "metadata": {},
   "outputs": [],
   "source": [
    "train = pd.read_excel('final_Train.xlsx')\n",
    "test = pd.read_excel('final_Test.xlsx')"
   ]
  },
  {
   "cell_type": "code",
   "execution_count": 89,
   "metadata": {},
   "outputs": [
    {
     "data": {
      "text/html": [
       "<div>\n",
       "<style scoped>\n",
       "    .dataframe tbody tr th:only-of-type {\n",
       "        vertical-align: middle;\n",
       "    }\n",
       "\n",
       "    .dataframe tbody tr th {\n",
       "        vertical-align: top;\n",
       "    }\n",
       "\n",
       "    .dataframe thead th {\n",
       "        text-align: right;\n",
       "    }\n",
       "</style>\n",
       "<table border=\"1\" class=\"dataframe\">\n",
       "  <thead>\n",
       "    <tr style=\"text-align: right;\">\n",
       "      <th></th>\n",
       "      <th>Qualification</th>\n",
       "      <th>Experience</th>\n",
       "      <th>Rating</th>\n",
       "      <th>Place</th>\n",
       "      <th>Profile</th>\n",
       "      <th>Miscellaneous_Info</th>\n",
       "      <th>Fees</th>\n",
       "    </tr>\n",
       "  </thead>\n",
       "  <tbody>\n",
       "    <tr>\n",
       "      <th>0</th>\n",
       "      <td>BHMS, MD - Homeopathy</td>\n",
       "      <td>24 years experience</td>\n",
       "      <td>100%</td>\n",
       "      <td>Kakkanad, Ernakulam</td>\n",
       "      <td>Homeopath</td>\n",
       "      <td>100% 16 Feedback Kakkanad, Ernakulam</td>\n",
       "      <td>100</td>\n",
       "    </tr>\n",
       "    <tr>\n",
       "      <th>1</th>\n",
       "      <td>BAMS, MD - Ayurveda Medicine</td>\n",
       "      <td>12 years experience</td>\n",
       "      <td>98%</td>\n",
       "      <td>Whitefield, Bangalore</td>\n",
       "      <td>Ayurveda</td>\n",
       "      <td>98% 76 Feedback Whitefield, Bangalore</td>\n",
       "      <td>350</td>\n",
       "    </tr>\n",
       "    <tr>\n",
       "      <th>2</th>\n",
       "      <td>MBBS, MS - Otorhinolaryngology</td>\n",
       "      <td>9 years experience</td>\n",
       "      <td>NaN</td>\n",
       "      <td>Mathikere - BEL, Bangalore</td>\n",
       "      <td>ENT Specialist</td>\n",
       "      <td>NaN</td>\n",
       "      <td>300</td>\n",
       "    </tr>\n",
       "    <tr>\n",
       "      <th>3</th>\n",
       "      <td>BSc - Zoology, BAMS</td>\n",
       "      <td>12 years experience</td>\n",
       "      <td>NaN</td>\n",
       "      <td>Bannerghatta Road, Bangalore</td>\n",
       "      <td>Ayurveda</td>\n",
       "      <td>Bannerghatta Road, Bangalore ₹250 Available on...</td>\n",
       "      <td>250</td>\n",
       "    </tr>\n",
       "    <tr>\n",
       "      <th>4</th>\n",
       "      <td>BAMS</td>\n",
       "      <td>20 years experience</td>\n",
       "      <td>100%</td>\n",
       "      <td>Keelkattalai, Chennai</td>\n",
       "      <td>Ayurveda</td>\n",
       "      <td>100% 4 Feedback Keelkattalai, Chennai</td>\n",
       "      <td>250</td>\n",
       "    </tr>\n",
       "  </tbody>\n",
       "</table>\n",
       "</div>"
      ],
      "text/plain": [
       "                    Qualification           Experience Rating  \\\n",
       "0           BHMS, MD - Homeopathy  24 years experience   100%   \n",
       "1    BAMS, MD - Ayurveda Medicine  12 years experience    98%   \n",
       "2  MBBS, MS - Otorhinolaryngology   9 years experience    NaN   \n",
       "3             BSc - Zoology, BAMS  12 years experience    NaN   \n",
       "4                            BAMS  20 years experience   100%   \n",
       "\n",
       "                          Place         Profile  \\\n",
       "0           Kakkanad, Ernakulam       Homeopath   \n",
       "1         Whitefield, Bangalore        Ayurveda   \n",
       "2    Mathikere - BEL, Bangalore  ENT Specialist   \n",
       "3  Bannerghatta Road, Bangalore        Ayurveda   \n",
       "4         Keelkattalai, Chennai        Ayurveda   \n",
       "\n",
       "                                  Miscellaneous_Info  Fees  \n",
       "0               100% 16 Feedback Kakkanad, Ernakulam   100  \n",
       "1              98% 76 Feedback Whitefield, Bangalore   350  \n",
       "2                                                NaN   300  \n",
       "3  Bannerghatta Road, Bangalore ₹250 Available on...   250  \n",
       "4              100% 4 Feedback Keelkattalai, Chennai   250  "
      ]
     },
     "execution_count": 89,
     "metadata": {},
     "output_type": "execute_result"
    }
   ],
   "source": [
    "train.head()"
   ]
  },
  {
   "cell_type": "code",
   "execution_count": 139,
   "metadata": {},
   "outputs": [
    {
     "name": "stdout",
     "output_type": "stream",
     "text": [
      "<class 'pandas.core.frame.DataFrame'>\n",
      "RangeIndex: 5961 entries, 0 to 5960\n",
      "Data columns (total 7 columns):\n",
      " #   Column              Non-Null Count  Dtype \n",
      "---  ------              --------------  ----- \n",
      " 0   Qualification       5961 non-null   object\n",
      " 1   Experience          5961 non-null   object\n",
      " 2   Rating              2659 non-null   object\n",
      " 3   Place               5936 non-null   object\n",
      " 4   Profile             5961 non-null   object\n",
      " 5   Miscellaneous_Info  3341 non-null   object\n",
      " 6   Fees                5961 non-null   int64 \n",
      "dtypes: int64(1), object(6)\n",
      "memory usage: 326.1+ KB\n"
     ]
    }
   ],
   "source": [
    "train.info()"
   ]
  },
  {
   "cell_type": "markdown",
   "metadata": {},
   "source": [
    "Features\n",
    "\n",
    "1.Qualification: Qualification and degrees held by the doctor\n",
    "\n",
    "2.Experience: Experience of the doctor in number of years\n",
    "\n",
    "3.Rating: Rating given by patients\n",
    "\n",
    "4.Profile: Type of the doctor\n",
    "\n",
    "5.Miscellaeous_Info: Extra information about the doctor\n",
    "\n",
    "6.Fees: Fees charged by the doctor\n",
    "\n",
    "7.Place: Area and the city where the doctor is located."
   ]
  },
  {
   "cell_type": "code",
   "execution_count": 91,
   "metadata": {},
   "outputs": [
    {
     "name": "stdout",
     "output_type": "stream",
     "text": [
      "Qualification: 1420\n",
      "Experience: 64\n",
      "Rating: 51\n",
      "Place: 877\n",
      "Profile 6\n"
     ]
    }
   ],
   "source": [
    "print('Qualification:', train['Qualification'].nunique())\n",
    "print('Experience:', train['Experience'].nunique())\n",
    "print('Rating:', train['Rating'].nunique())\n",
    "print('Place:', train['Place'].nunique())\n",
    "print('Profile', train['Profile'].nunique())\n"
   ]
  },
  {
   "cell_type": "markdown",
   "metadata": {},
   "source": [
    "# Data Pre-processing"
   ]
  },
  {
   "cell_type": "code",
   "execution_count": 92,
   "metadata": {},
   "outputs": [],
   "source": [
    "df_train = train[['Qualification', 'Profile', 'Experience', 'Place', 'Miscellaneous_Info', 'Rating','Fees']]\n",
    "df_test = test[['Qualification', 'Profile','Experience', 'Place', 'Miscellaneous_Info', 'Rating']]"
   ]
  },
  {
   "cell_type": "code",
   "execution_count": 93,
   "metadata": {},
   "outputs": [
    {
     "data": {
      "text/html": [
       "<div>\n",
       "<style scoped>\n",
       "    .dataframe tbody tr th:only-of-type {\n",
       "        vertical-align: middle;\n",
       "    }\n",
       "\n",
       "    .dataframe tbody tr th {\n",
       "        vertical-align: top;\n",
       "    }\n",
       "\n",
       "    .dataframe thead th {\n",
       "        text-align: right;\n",
       "    }\n",
       "</style>\n",
       "<table border=\"1\" class=\"dataframe\">\n",
       "  <thead>\n",
       "    <tr style=\"text-align: right;\">\n",
       "      <th></th>\n",
       "      <th>Qualification</th>\n",
       "      <th>Profile</th>\n",
       "      <th>Experience</th>\n",
       "      <th>Place</th>\n",
       "      <th>Miscellaneous_Info</th>\n",
       "      <th>Rating</th>\n",
       "      <th>Fees</th>\n",
       "    </tr>\n",
       "  </thead>\n",
       "  <tbody>\n",
       "    <tr>\n",
       "      <th>0</th>\n",
       "      <td>BHMS, MD - Homeopathy</td>\n",
       "      <td>Homeopath</td>\n",
       "      <td>24 years experience</td>\n",
       "      <td>Kakkanad, Ernakulam</td>\n",
       "      <td>100% 16 Feedback Kakkanad, Ernakulam</td>\n",
       "      <td>100%</td>\n",
       "      <td>100</td>\n",
       "    </tr>\n",
       "    <tr>\n",
       "      <th>1</th>\n",
       "      <td>BAMS, MD - Ayurveda Medicine</td>\n",
       "      <td>Ayurveda</td>\n",
       "      <td>12 years experience</td>\n",
       "      <td>Whitefield, Bangalore</td>\n",
       "      <td>98% 76 Feedback Whitefield, Bangalore</td>\n",
       "      <td>98%</td>\n",
       "      <td>350</td>\n",
       "    </tr>\n",
       "    <tr>\n",
       "      <th>2</th>\n",
       "      <td>MBBS, MS - Otorhinolaryngology</td>\n",
       "      <td>ENT Specialist</td>\n",
       "      <td>9 years experience</td>\n",
       "      <td>Mathikere - BEL, Bangalore</td>\n",
       "      <td>NaN</td>\n",
       "      <td>NaN</td>\n",
       "      <td>300</td>\n",
       "    </tr>\n",
       "    <tr>\n",
       "      <th>3</th>\n",
       "      <td>BSc - Zoology, BAMS</td>\n",
       "      <td>Ayurveda</td>\n",
       "      <td>12 years experience</td>\n",
       "      <td>Bannerghatta Road, Bangalore</td>\n",
       "      <td>Bannerghatta Road, Bangalore ₹250 Available on...</td>\n",
       "      <td>NaN</td>\n",
       "      <td>250</td>\n",
       "    </tr>\n",
       "    <tr>\n",
       "      <th>4</th>\n",
       "      <td>BAMS</td>\n",
       "      <td>Ayurveda</td>\n",
       "      <td>20 years experience</td>\n",
       "      <td>Keelkattalai, Chennai</td>\n",
       "      <td>100% 4 Feedback Keelkattalai, Chennai</td>\n",
       "      <td>100%</td>\n",
       "      <td>250</td>\n",
       "    </tr>\n",
       "  </tbody>\n",
       "</table>\n",
       "</div>"
      ],
      "text/plain": [
       "                    Qualification         Profile           Experience  \\\n",
       "0           BHMS, MD - Homeopathy       Homeopath  24 years experience   \n",
       "1    BAMS, MD - Ayurveda Medicine        Ayurveda  12 years experience   \n",
       "2  MBBS, MS - Otorhinolaryngology  ENT Specialist   9 years experience   \n",
       "3             BSc - Zoology, BAMS        Ayurveda  12 years experience   \n",
       "4                            BAMS        Ayurveda  20 years experience   \n",
       "\n",
       "                          Place  \\\n",
       "0           Kakkanad, Ernakulam   \n",
       "1         Whitefield, Bangalore   \n",
       "2    Mathikere - BEL, Bangalore   \n",
       "3  Bannerghatta Road, Bangalore   \n",
       "4         Keelkattalai, Chennai   \n",
       "\n",
       "                                  Miscellaneous_Info Rating  Fees  \n",
       "0               100% 16 Feedback Kakkanad, Ernakulam   100%   100  \n",
       "1              98% 76 Feedback Whitefield, Bangalore    98%   350  \n",
       "2                                                NaN    NaN   300  \n",
       "3  Bannerghatta Road, Bangalore ₹250 Available on...    NaN   250  \n",
       "4              100% 4 Feedback Keelkattalai, Chennai   100%   250  "
      ]
     },
     "execution_count": 93,
     "metadata": {},
     "output_type": "execute_result"
    }
   ],
   "source": [
    "df_train.head()"
   ]
  },
  {
   "cell_type": "code",
   "execution_count": 94,
   "metadata": {},
   "outputs": [],
   "source": [
    "df_train['Experience'] = df_train['Experience'].str.replace('years experience','').astype(int)\n",
    "df_test['Experience'] = df_test['Experience'].str.replace('years experience','').astype(int)"
   ]
  },
  {
   "cell_type": "code",
   "execution_count": 95,
   "metadata": {},
   "outputs": [],
   "source": [
    "def clean_text(text):\n",
    "    text = str(text).lower()\n",
    "    text = re.sub(r'[^a-z]', ' ', text)\n",
    "    text = re.sub(r'\\s+', ' ', text)\n",
    "    return text\n",
    "\n",
    "df_train['Qualification'] = df_train['Qualification'].apply(clean_text)\n",
    "df_test['Qualification'] = df_test['Qualification'].apply(clean_text)\n",
    "\n",
    "def clean_place(text):\n",
    "    text = str(text).lower()\n",
    "    text = re.sub(r'[^a-z0-9]', ' ', text)\n",
    "    text = re.sub(r'\\s+', ' ', text)\n",
    "    return text\n",
    "\n",
    "df_train['Place'].fillna('missing', inplace=True)\n",
    "df_test['Place'].fillna('missing', inplace=True)\n",
    "df_train['Place'] = df_train['Place'].apply(clean_place)\n",
    "df_test['Place'] = df_test['Place'].apply(clean_place)"
   ]
  },
  {
   "cell_type": "code",
   "execution_count": 96,
   "metadata": {},
   "outputs": [],
   "source": [
    "df_train['Rating'].fillna('0%', inplace=True)\n",
    "df_test['Rating'].fillna('0%', inplace=True)\n",
    "\n",
    "def clean_rating(text):\n",
    "    text = re.sub(r'%', '', str(text))\n",
    "    return text\n",
    "\n",
    "df_train['Rating'] = df_train['Rating'].apply(clean_rating)\n",
    "df_train['Rating'] = df_train['Rating'].astype(int)\n",
    "\n",
    "df_test['Rating'] = df_test['Rating'].apply(clean_rating)\n",
    "df_test['Rating'] = df_test['Rating'].astype(int)\n"
   ]
  },
  {
   "cell_type": "code",
   "execution_count": 97,
   "metadata": {},
   "outputs": [],
   "source": [
    "df_train['Miscellaneous_Info'].fillna('missing', inplace=True)\n",
    "df_test['Miscellaneous_Info'].fillna('missing', inplace=True)\n",
    "\n",
    "def get_feedback(feedback):\n",
    "    feedback = re.findall(r'\\d+ Feedback', str(feedback))\n",
    "    if feedback == []:\n",
    "        feedback = '0 Feedback'\n",
    "        return feedback\n",
    "    else:\n",
    "        return feedback[0]\n",
    "\n",
    "df_train['Feedback'] = df_train['Miscellaneous_Info'].apply(get_feedback)\n",
    "df_train['Feedback'] = df_train['Feedback'].str.replace(' Feedback','')\n",
    "df_train['Feedback'] = df_train['Feedback'].astype(int)\n",
    "\n",
    "df_test['Feedback'] = df_test['Miscellaneous_Info'].apply(get_feedback)\n",
    "df_test['Feedback'] = df_test['Feedback'].str.replace(' Feedback','')\n",
    "df_test['Feedback'] = df_test['Feedback'].astype(int)"
   ]
  },
  {
   "cell_type": "code",
   "execution_count": 98,
   "metadata": {},
   "outputs": [],
   "source": [
    "def get_fee(text):\n",
    "    text = re.sub(r',', \"\", text)\n",
    "    text = re.findall(r'₹\\d+', text)\n",
    "    if text != []:\n",
    "        return text[0]\n",
    "    else:\n",
    "        return 0\n",
    "\n",
    "df_train['Misc_Fees'] = df_train['Miscellaneous_Info'].apply(get_fee)\n",
    "df_train['Misc_Fees'] = df_train['Misc_Fees'].str.replace('₹','')\n",
    "df_train['Misc_Fees'].fillna(50, inplace=True)\n",
    "df_train['Misc_Fees'] = df_train['Misc_Fees'].astype(int)\n",
    "\n",
    "df_test['Misc_Fees'] = df_test['Miscellaneous_Info'].apply(get_fee)\n",
    "df_test['Misc_Fees'] = df_test['Misc_Fees'].str.replace('₹','')\n",
    "df_test['Misc_Fees'].fillna(50, inplace=True)\n",
    "df_test['Misc_Fees'] = df_test['Misc_Fees'].astype(float)"
   ]
  },
  {
   "cell_type": "code",
   "execution_count": 99,
   "metadata": {},
   "outputs": [],
   "source": [
    "def clean_misc(text):\n",
    "    text = str(text).lower()\n",
    "    text = re.sub(r'[^a-z0-9]', ' ', text)\n",
    "    text = re.sub(r'\\s+', ' ', text)\n",
    "    return text\n",
    "\n",
    "df_train['Miscellaneous_Info'] = df_train['Miscellaneous_Info'].apply(clean_misc)\n",
    "df_test['Miscellaneous_Info'] = df_test['Miscellaneous_Info'].apply(clean_misc)"
   ]
  },
  {
   "cell_type": "code",
   "execution_count": 100,
   "metadata": {},
   "outputs": [],
   "source": [
    "df_train = pd.get_dummies(df_train, columns=['Profile'])\n",
    "df_test  = pd.get_dummies(df_test,  columns=['Profile'])"
   ]
  },
  {
   "cell_type": "code",
   "execution_count": 101,
   "metadata": {},
   "outputs": [
    {
     "data": {
      "text/html": [
       "<div>\n",
       "<style scoped>\n",
       "    .dataframe tbody tr th:only-of-type {\n",
       "        vertical-align: middle;\n",
       "    }\n",
       "\n",
       "    .dataframe tbody tr th {\n",
       "        vertical-align: top;\n",
       "    }\n",
       "\n",
       "    .dataframe thead th {\n",
       "        text-align: right;\n",
       "    }\n",
       "</style>\n",
       "<table border=\"1\" class=\"dataframe\">\n",
       "  <thead>\n",
       "    <tr style=\"text-align: right;\">\n",
       "      <th></th>\n",
       "      <th>Qualification</th>\n",
       "      <th>Experience</th>\n",
       "      <th>Place</th>\n",
       "      <th>Miscellaneous_Info</th>\n",
       "      <th>Rating</th>\n",
       "      <th>Fees</th>\n",
       "      <th>Feedback</th>\n",
       "      <th>Misc_Fees</th>\n",
       "      <th>Profile_Ayurveda</th>\n",
       "      <th>Profile_Dentist</th>\n",
       "      <th>Profile_Dermatologists</th>\n",
       "      <th>Profile_ENT Specialist</th>\n",
       "      <th>Profile_General Medicine</th>\n",
       "      <th>Profile_Homeopath</th>\n",
       "    </tr>\n",
       "  </thead>\n",
       "  <tbody>\n",
       "    <tr>\n",
       "      <th>0</th>\n",
       "      <td>bhms md homeopathy</td>\n",
       "      <td>24</td>\n",
       "      <td>kakkanad ernakulam</td>\n",
       "      <td>100 16 feedback kakkanad ernakulam</td>\n",
       "      <td>100</td>\n",
       "      <td>100</td>\n",
       "      <td>16</td>\n",
       "      <td>50</td>\n",
       "      <td>0</td>\n",
       "      <td>0</td>\n",
       "      <td>0</td>\n",
       "      <td>0</td>\n",
       "      <td>0</td>\n",
       "      <td>1</td>\n",
       "    </tr>\n",
       "    <tr>\n",
       "      <th>1</th>\n",
       "      <td>bams md ayurveda medicine</td>\n",
       "      <td>12</td>\n",
       "      <td>whitefield bangalore</td>\n",
       "      <td>98 76 feedback whitefield bangalore</td>\n",
       "      <td>98</td>\n",
       "      <td>350</td>\n",
       "      <td>76</td>\n",
       "      <td>50</td>\n",
       "      <td>1</td>\n",
       "      <td>0</td>\n",
       "      <td>0</td>\n",
       "      <td>0</td>\n",
       "      <td>0</td>\n",
       "      <td>0</td>\n",
       "    </tr>\n",
       "    <tr>\n",
       "      <th>2</th>\n",
       "      <td>mbbs ms otorhinolaryngology</td>\n",
       "      <td>9</td>\n",
       "      <td>mathikere bel bangalore</td>\n",
       "      <td>missing</td>\n",
       "      <td>0</td>\n",
       "      <td>300</td>\n",
       "      <td>0</td>\n",
       "      <td>50</td>\n",
       "      <td>0</td>\n",
       "      <td>0</td>\n",
       "      <td>0</td>\n",
       "      <td>1</td>\n",
       "      <td>0</td>\n",
       "      <td>0</td>\n",
       "    </tr>\n",
       "    <tr>\n",
       "      <th>3</th>\n",
       "      <td>bsc zoology bams</td>\n",
       "      <td>12</td>\n",
       "      <td>bannerghatta road bangalore</td>\n",
       "      <td>bannerghatta road bangalore 250 available on s...</td>\n",
       "      <td>0</td>\n",
       "      <td>250</td>\n",
       "      <td>0</td>\n",
       "      <td>250</td>\n",
       "      <td>1</td>\n",
       "      <td>0</td>\n",
       "      <td>0</td>\n",
       "      <td>0</td>\n",
       "      <td>0</td>\n",
       "      <td>0</td>\n",
       "    </tr>\n",
       "    <tr>\n",
       "      <th>4</th>\n",
       "      <td>bams</td>\n",
       "      <td>20</td>\n",
       "      <td>keelkattalai chennai</td>\n",
       "      <td>100 4 feedback keelkattalai chennai</td>\n",
       "      <td>100</td>\n",
       "      <td>250</td>\n",
       "      <td>4</td>\n",
       "      <td>50</td>\n",
       "      <td>1</td>\n",
       "      <td>0</td>\n",
       "      <td>0</td>\n",
       "      <td>0</td>\n",
       "      <td>0</td>\n",
       "      <td>0</td>\n",
       "    </tr>\n",
       "  </tbody>\n",
       "</table>\n",
       "</div>"
      ],
      "text/plain": [
       "                 Qualification  Experience                        Place  \\\n",
       "0           bhms md homeopathy          24           kakkanad ernakulam   \n",
       "1    bams md ayurveda medicine          12         whitefield bangalore   \n",
       "2  mbbs ms otorhinolaryngology           9      mathikere bel bangalore   \n",
       "3             bsc zoology bams          12  bannerghatta road bangalore   \n",
       "4                         bams          20         keelkattalai chennai   \n",
       "\n",
       "                                  Miscellaneous_Info  Rating  Fees  Feedback  \\\n",
       "0                 100 16 feedback kakkanad ernakulam     100   100        16   \n",
       "1                98 76 feedback whitefield bangalore      98   350        76   \n",
       "2                                            missing       0   300         0   \n",
       "3  bannerghatta road bangalore 250 available on s...       0   250         0   \n",
       "4                100 4 feedback keelkattalai chennai     100   250         4   \n",
       "\n",
       "   Misc_Fees  Profile_Ayurveda  Profile_Dentist  Profile_Dermatologists  \\\n",
       "0         50                 0                0                       0   \n",
       "1         50                 1                0                       0   \n",
       "2         50                 0                0                       0   \n",
       "3        250                 1                0                       0   \n",
       "4         50                 1                0                       0   \n",
       "\n",
       "   Profile_ENT Specialist  Profile_General Medicine  Profile_Homeopath  \n",
       "0                       0                         0                  1  \n",
       "1                       0                         0                  0  \n",
       "2                       1                         0                  0  \n",
       "3                       0                         0                  0  \n",
       "4                       0                         0                  0  "
      ]
     },
     "execution_count": 101,
     "metadata": {},
     "output_type": "execute_result"
    }
   ],
   "source": [
    "df_train.head()"
   ]
  },
  {
   "cell_type": "markdown",
   "metadata": {},
   "source": [
    "# train test split"
   ]
  },
  {
   "cell_type": "code",
   "execution_count": 102,
   "metadata": {},
   "outputs": [],
   "source": [
    "X = df_train.drop(labels=['Fees'], axis=1)\n",
    "y = df_train['Fees'].values\n",
    "\n",
    "from sklearn.model_selection import train_test_split\n",
    "X_train, X_cv, y_train, y_cv = train_test_split(X, y, test_size=0.25, random_state=1)\n"
   ]
  },
  {
   "cell_type": "code",
   "execution_count": 103,
   "metadata": {},
   "outputs": [
    {
     "data": {
      "text/plain": [
       "((4470, 13), (4470,), (1491, 13), (1491,))"
      ]
     },
     "execution_count": 103,
     "metadata": {},
     "output_type": "execute_result"
    }
   ],
   "source": [
    "X_train.shape, y_train.shape, X_cv.shape, y_cv.shape"
   ]
  },
  {
   "cell_type": "code",
   "execution_count": 104,
   "metadata": {},
   "outputs": [
    {
     "data": {
      "text/plain": [
       "Index(['Qualification', 'Experience', 'Place', 'Miscellaneous_Info', 'Rating',\n",
       "       'Feedback', 'Misc_Fees', 'Profile_Ayurveda', 'Profile_Dentist',\n",
       "       'Profile_Dermatologists', 'Profile_ENT Specialist',\n",
       "       'Profile_General Medicine', 'Profile_Homeopath'],\n",
       "      dtype='object')"
      ]
     },
     "execution_count": 104,
     "metadata": {},
     "output_type": "execute_result"
    }
   ],
   "source": [
    "X_train.columns"
   ]
  },
  {
   "cell_type": "markdown",
   "metadata": {},
   "source": [
    "# build model\n"
   ]
  },
  {
   "cell_type": "code",
   "execution_count": 106,
   "metadata": {},
   "outputs": [],
   "source": [
    "X_train_qual = X_train['Qualification']\n",
    "X_cv_qual = X_cv['Qualification']\n",
    "\n",
    "X_train_place = X_train['Place']\n",
    "X_cv_place = X_cv['Place']\n",
    "\n",
    "X_train_misc = X_train['Miscellaneous_Info']\n",
    "X_cv_misc = X_cv['Miscellaneous_Info']\n",
    "\n",
    "from sklearn.feature_extraction.text import TfidfVectorizer\n",
    "\n",
    "tf1 = TfidfVectorizer(ngram_range=(1,2), binary=True, token_pattern=r'\\w{3,}')\n",
    "X_train_qual = tf1.fit_transform(X_train_qual)\n",
    "X_cv_qual = tf1.transform(X_cv_qual)\n",
    "\n",
    "tf2 = TfidfVectorizer()\n",
    "X_train_place = tf2.fit_transform(X_train_place)\n",
    "X_cv_place = tf2.transform(X_cv_place)\n",
    "\n",
    "tf3 = TfidfVectorizer(token_pattern=r'\\w{1,}', ngram_range=(1,2))\n",
    "X_train_misc = tf3.fit_transform(X_train_misc)\n",
    "X_cv_misc = tf3.transform(X_cv_misc)"
   ]
  },
  {
   "cell_type": "code",
   "execution_count": 107,
   "metadata": {},
   "outputs": [],
   "source": [
    "X_train_exp = np.array(X_train['Experience']).reshape(-1,1)\n",
    "X_cv_exp = np.array(X_cv['Experience']).reshape(-1,1)\n",
    "\n",
    "X_train_feedback = np.array(X_train['Feedback']).reshape(-1,1)\n",
    "X_cv_feedback = np.array(X_cv['Feedback']).reshape(-1,1)\n",
    "\n",
    "X_train_rating = np.array(X_train['Rating']).reshape(-1,1)\n",
    "X_cv_rating = np.array(X_cv['Rating']).reshape(-1,1)\n",
    "\n",
    "cols = ['Profile_Dentist', 'Profile_Dermatologists', 'Profile_ENT Specialist', 'Profile_General Medicine']\n",
    "X_train_prof = X_train[cols]\n",
    "X_cv_prof = X_cv[cols]\n",
    "\n",
    "X_train_miscfees = np.array(X_train['Misc_Fees']).reshape(-1,1)\n",
    "X_cv_miscfees = np.array(X_cv['Misc_Fees']).reshape(-1,1)"
   ]
  },
  {
   "cell_type": "code",
   "execution_count": 108,
   "metadata": {},
   "outputs": [],
   "source": [
    "from math import sqrt \n",
    "from sklearn.metrics import mean_squared_log_error, mean_squared_error\n"
   ]
  },
  {
   "cell_type": "code",
   "execution_count": 109,
   "metadata": {},
   "outputs": [],
   "source": [
    "from scipy.sparse import hstack\n",
    "merged_train = hstack((X_train_exp, X_train_qual, X_train_prof, X_train_place, X_train_rating, X_train_misc, X_train_miscfees))\n",
    "merged_cv  = hstack((X_cv_exp, X_cv_qual, X_cv_prof, X_cv_place, X_cv_rating, X_cv_misc, X_cv_miscfees))\n"
   ]
  },
  {
   "cell_type": "code",
   "execution_count": 110,
   "metadata": {},
   "outputs": [
    {
     "data": {
      "text/plain": [
       "((4470, 8599), (1491, 8599))"
      ]
     },
     "execution_count": 110,
     "metadata": {},
     "output_type": "execute_result"
    }
   ],
   "source": [
    "merged_train.shape, merged_cv.shape"
   ]
  },
  {
   "cell_type": "code",
   "execution_count": 111,
   "metadata": {},
   "outputs": [
    {
     "name": "stdout",
     "output_type": "stream",
     "text": [
      "RMSLE: 0.5713594153818623\n"
     ]
    }
   ],
   "source": [
    "from xgboost import XGBRegressor\n",
    "xgb = XGBRegressor(learning_rate=0.02, \n",
    "                   gamma=100, \n",
    "                   max_depth=25,  \n",
    "                   min_child_weight=1, \n",
    "                   max_delta_step=0, \n",
    "                   subsample=0.75,  \n",
    "                   colsample_bylevel=0.95,  \n",
    "                   colsample_bytree=0.70,  \n",
    "                   reg_lambda=1)\n",
    "xgb.fit(merged_train, y_train)\n",
    "y_pred1 = xgb.predict(merged_cv)\n",
    "y_pred1 = y_pred1.astype(int)\n",
    "print('RMSLE:', sqrt(mean_squared_log_error(y_cv, y_pred1)))"
   ]
  },
  {
   "cell_type": "code",
   "execution_count": 113,
   "metadata": {},
   "outputs": [
    {
     "name": "stdout",
     "output_type": "stream",
     "text": [
      "[LightGBM] [Warning] Auto-choosing row-wise multi-threading, the overhead of testing was 0.056758 seconds.\n",
      "You can set `force_row_wise=true` to remove the overhead.\n",
      "And if memory is not enough, you can set `force_col_wise=true`.\n",
      "[LightGBM] [Info] Total Bins 6235\n",
      "[LightGBM] [Info] Number of data points in the train set: 4470, number of used features: 2961\n",
      "[LightGBM] [Info] Start training from score 307.347651\n",
      "RMSLE: 0.563087173685677\n"
     ]
    }
   ],
   "source": [
    "import lightgbm as lgb\n",
    "train_data = lgb.Dataset(merged_train, label=y_train)\n",
    "test_data = lgb.Dataset(merged_cv, label=y_cv)\n",
    "\n",
    "param = {'objective': 'regression',\n",
    "         'boosting': 'dart',\n",
    "         'num_iterations': 152,   \n",
    "         'learning_rate': 0.1,  \n",
    "         'num_leaves': 52, \n",
    "         'max_depth': 28, \n",
    "         'min_data_in_leaf': 3, \n",
    "         'feature_fraction': 0.66,  \n",
    "         'feature_fraction_seed': 10,\n",
    "         'drop_seed': 4,\n",
    "         'alpha': 100,\n",
    "         'max_bin': 7,\n",
    "         'min_data_in_bin': 45,   \n",
    "         'metric': 'l2_root'\n",
    "         }\n",
    "\n",
    "lgbm = lgb.train(params=param,\n",
    "                 verbose_eval=0,\n",
    "                 train_set=train_data,\n",
    "                 valid_sets=[test_data])\n",
    "\n",
    "y_pred2 = lgbm.predict(merged_cv)\n",
    "print('RMSLE:', sqrt(mean_squared_log_error(y_cv, y_pred2)))\n"
   ]
  },
  {
   "cell_type": "code",
   "execution_count": 114,
   "metadata": {},
   "outputs": [
    {
     "name": "stdout",
     "output_type": "stream",
     "text": [
      "RMSLE: 0.5847777476449565\n",
      "RMSE: 162.10313142537169\n"
     ]
    }
   ],
   "source": [
    "from sklearn.ensemble import BaggingRegressor\n",
    "br = BaggingRegressor(base_estimator=None, \n",
    "                      n_estimators=80,  \n",
    "                      max_samples=1.0, \n",
    "                      max_features=1.0, \n",
    "                      bootstrap=True, \n",
    "                      bootstrap_features=True,\n",
    "                      oob_score=True,\n",
    "                      n_jobs=None, \n",
    "                      random_state=13, \n",
    "                      verbose=0)\n",
    "br.fit(merged_train, y_train)\n",
    "y_pred5 = br.predict(merged_cv)\n",
    "print('RMSLE:', sqrt(mean_squared_log_error(y_cv, y_pred5)))\n",
    "print('RMSE:', sqrt(mean_squared_error(y_cv, y_pred5)))\n",
    "#     0.58019310689049"
   ]
  },
  {
   "cell_type": "code",
   "execution_count": 115,
   "metadata": {},
   "outputs": [],
   "source": [
    "from scipy.sparse import hstack\n",
    "merged_train = hstack((X_train_exp, X_train_feedback, X_train_qual, X_train_prof, X_train_place, X_train_rating, X_train_misc))\n",
    "merged_cv  = hstack((X_cv_exp, X_cv_feedback, X_cv_qual, X_cv_prof, X_cv_place, X_cv_rating, X_cv_misc))\n"
   ]
  },
  {
   "cell_type": "code",
   "execution_count": 116,
   "metadata": {},
   "outputs": [
    {
     "name": "stdout",
     "output_type": "stream",
     "text": [
      "RMSLE: 0.5842696240460581\n"
     ]
    }
   ],
   "source": [
    "from sklearn.ensemble import GradientBoostingRegressor\n",
    "gb = GradientBoostingRegressor(loss='lad', \n",
    "                               learning_rate=0.2,  \n",
    "                               random_state=10, \n",
    "                               n_estimators=92,   \n",
    "                               max_depth=11,  \n",
    "                               subsample=1.0, \n",
    "                               min_samples_split=40, \n",
    "                               min_samples_leaf=1,\n",
    "                               max_features='auto')\n",
    "gb.fit(merged_train, y_train)\n",
    "y_pred3 = gb.predict(merged_cv)\n",
    "print('RMSLE:', sqrt(mean_squared_log_error(y_cv, y_pred3)))\n"
   ]
  },
  {
   "cell_type": "code",
   "execution_count": 117,
   "metadata": {},
   "outputs": [
    {
     "name": "stdout",
     "output_type": "stream",
     "text": [
      "RMSLE: 0.5918960182582605\n"
     ]
    }
   ],
   "source": [
    "from sklearn.ensemble import RandomForestRegressor\n",
    "rf = RandomForestRegressor(n_estimators=29,  \n",
    "                           criterion='mse', \n",
    "                           max_depth=58,  \n",
    "                           min_samples_split=5, \n",
    "                           min_samples_leaf=2, \n",
    "                           min_weight_fraction_leaf=0.0, \n",
    "                           max_features='auto', \n",
    "                           max_leaf_nodes=None, \n",
    "                           min_impurity_decrease=0.20,  \n",
    "                           bootstrap=True, \n",
    "                           oob_score=True, \n",
    "                           n_jobs=-1, \n",
    "                           random_state=11)  \n",
    "rf.fit(merged_train, y_train)\n",
    "y_pred4 = rf.predict(merged_cv)\n",
    "print('RMSLE:', sqrt(mean_squared_log_error(y_cv, y_pred4)))\n"
   ]
  },
  {
   "cell_type": "code",
   "execution_count": 118,
   "metadata": {},
   "outputs": [
    {
     "name": "stdout",
     "output_type": "stream",
     "text": [
      "RMSLE: 0.5609864413333353\n"
     ]
    }
   ],
   "source": [
    "y_predx = y_pred1*.4 + y_pred2*0.5 + y_pred3*0.1\n",
    "y_predx = y_predx.astype(int)\n",
    "print('RMSLE:', sqrt(mean_squared_log_error(y_cv, y_predx)))\n"
   ]
  },
  {
   "cell_type": "code",
   "execution_count": 119,
   "metadata": {},
   "outputs": [
    {
     "name": "stdout",
     "output_type": "stream",
     "text": [
      "RMSLE: 0.561298441144075\n"
     ]
    }
   ],
   "source": [
    "y_predy = y_pred1*0.40 + y_pred2*0.45 + y_pred3*0.10 + y_pred5*0.05\n",
    "y_predy = y_predy.astype(int)\n",
    "print('RMSLE:', sqrt(mean_squared_log_error(y_cv, y_predy)))\n"
   ]
  },
  {
   "cell_type": "code",
   "execution_count": 120,
   "metadata": {},
   "outputs": [
    {
     "name": "stdout",
     "output_type": "stream",
     "text": [
      "RMSLE: 0.5609234834174726\n"
     ]
    }
   ],
   "source": [
    "\n",
    "y_pred = y_predx*.98 + y_predy*0.02\n",
    "y_pred = y_pred.astype(int)\n",
    "print('RMSLE:', sqrt(mean_squared_log_error(y_cv, y_pred)))"
   ]
  },
  {
   "cell_type": "markdown",
   "metadata": {},
   "source": [
    "# Now, predict on test set"
   ]
  },
  {
   "cell_type": "code",
   "execution_count": 121,
   "metadata": {},
   "outputs": [],
   "source": [
    "\n",
    "X_train = df_train.drop(labels='Fees', axis=1)\n",
    "y_train = df_train['Fees'].values\n",
    "\n",
    "X_test = df_test"
   ]
  },
  {
   "cell_type": "code",
   "execution_count": 122,
   "metadata": {},
   "outputs": [],
   "source": [
    "X_train_qual = X_train['Qualification']\n",
    "X_test_qual = X_test['Qualification']\n",
    "\n",
    "X_train_place = X_train['Place']\n",
    "X_test_place = X_test['Place']\n",
    "\n",
    "X_train_misc = X_train['Miscellaneous_Info']\n",
    "X_test_misc = X_test['Miscellaneous_Info']\n",
    "\n",
    "from sklearn.feature_extraction.text import TfidfVectorizer\n",
    "\n",
    "tf1 = TfidfVectorizer(ngram_range=(1,2), binary=True, token_pattern=r'\\w{3,}')\n",
    "X_train_qual = tf1.fit_transform(X_train_qual)\n",
    "X_test_qual = tf1.transform(X_test_qual)\n",
    "\n",
    "tf3 = TfidfVectorizer()\n",
    "X_train_place = tf3.fit_transform(X_train_place)\n",
    "X_test_place = tf3.transform(X_test_place)\n",
    "\n",
    "tf4 = TfidfVectorizer(token_pattern=r'\\w{1,}', ngram_range=(1,2))\n",
    "X_train_misc = tf4.fit_transform(X_train_misc)\n",
    "X_test_misc = tf4.transform(X_test_misc)"
   ]
  },
  {
   "cell_type": "code",
   "execution_count": 123,
   "metadata": {},
   "outputs": [],
   "source": [
    "X_train_exp = np.array(X_train['Experience']).reshape(-1,1)\n",
    "X_test_exp = np.array(X_test['Experience']).reshape(-1,1)\n",
    "\n",
    "X_train_feedback = np.array(X_train['Feedback']).reshape(-1,1)\n",
    "X_test_feedback = np.array(X_test['Feedback']).reshape(-1,1)\n",
    "\n",
    "X_train_rating = np.array(X_train['Rating']).reshape(-1,1)\n",
    "X_test_rating = np.array(X_test['Rating']).reshape(-1,1)\n",
    "\n",
    "cols = ['Profile_Dentist', 'Profile_Dermatologists', 'Profile_ENT Specialist', 'Profile_General Medicine']\n",
    "X_train_prof = X_train[cols]\n",
    "X_test_prof = X_test[cols]\n",
    "\n",
    "X_train_miscfees = np.array(X_train['Misc_Fees']).reshape(-1,1)\n",
    "X_test_miscfees = np.array(X_test['Misc_Fees']).reshape(-1,1)\n"
   ]
  },
  {
   "cell_type": "code",
   "execution_count": 124,
   "metadata": {},
   "outputs": [],
   "source": [
    "from scipy.sparse import hstack\n",
    "merged_train = hstack((X_train_exp, X_train_qual, X_train_prof, X_train_place, X_train_rating, X_train_misc, X_train_miscfees))\n",
    "merged_test  = hstack((X_test_exp, X_test_qual, X_test_prof, X_test_place, X_test_rating, X_test_misc, X_test_miscfees))\n"
   ]
  },
  {
   "cell_type": "code",
   "execution_count": 125,
   "metadata": {},
   "outputs": [
    {
     "data": {
      "text/plain": [
       "((5961, 9981), (1987, 9981))"
      ]
     },
     "execution_count": 125,
     "metadata": {},
     "output_type": "execute_result"
    }
   ],
   "source": [
    "merged_train.shape, merged_test.shape"
   ]
  },
  {
   "cell_type": "code",
   "execution_count": 126,
   "metadata": {},
   "outputs": [],
   "source": [
    "from xgboost import XGBRegressor\n",
    "xgb = XGBRegressor(learning_rate=0.02, \n",
    "                   gamma=100, \n",
    "                   max_depth=25,  \n",
    "                   min_child_weight=1, \n",
    "                   max_delta_step=0, \n",
    "                   subsample=0.75,  \n",
    "                   colsample_bylevel=0.95,  \n",
    "                   colsample_bytree=0.70,  \n",
    "                   reg_lambda=1)\n",
    "xgb.fit(merged_train, y_train)\n",
    "y_pred1 = xgb.predict(merged_test)\n"
   ]
  },
  {
   "cell_type": "code",
   "execution_count": 127,
   "metadata": {},
   "outputs": [
    {
     "name": "stdout",
     "output_type": "stream",
     "text": [
      "[LightGBM] [Warning] Auto-choosing col-wise multi-threading, the overhead of testing was 0.071784 seconds.\n",
      "You can set `force_col_wise=true` to remove the overhead.\n",
      "[LightGBM] [Info] Total Bins 7482\n",
      "[LightGBM] [Info] Number of data points in the train set: 5961, number of used features: 3533\n",
      "[LightGBM] [Info] Start training from score 307.944640\n"
     ]
    }
   ],
   "source": [
    "import lightgbm as lgb\n",
    "train_data = lgb.Dataset(merged_train, label=y_train)\n",
    "\n",
    "param = {'objective': 'regression',\n",
    "         'boosting': 'dart',\n",
    "         'num_iterations': 137,   \n",
    "         'learning_rate': 0.1,\n",
    "         'num_leaves': 52,   \n",
    "         'max_depth': 33,   \n",
    "         'min_data_in_leaf': 3,  \n",
    "         'feature_fraction': 0.54,  \n",
    "         'feature_fraction_seed': 50,  \n",
    "         'alpha': 100,\n",
    "         'max_bin': 7,\n",
    "         'min_data_in_bin': 45,   \n",
    "         'metric': 'l2_root'\n",
    "         }\n",
    "\n",
    "lgbm = lgb.train(params=param,\n",
    "                 train_set=train_data)\n",
    "\n",
    "y_pred2 = lgbm.predict(merged_test)"
   ]
  },
  {
   "cell_type": "code",
   "execution_count": 128,
   "metadata": {},
   "outputs": [],
   "source": [
    "from sklearn.ensemble import BaggingRegressor\n",
    "br = BaggingRegressor(base_estimator=None, \n",
    "                      n_estimators=80,  \n",
    "                      max_samples=1.0, \n",
    "                      max_features=1.0, \n",
    "                      bootstrap=True, \n",
    "                      bootstrap_features=True,\n",
    "                      oob_score=True,\n",
    "                      n_jobs=None, \n",
    "                      random_state=13, #4\n",
    "                      verbose=0)\n",
    "br.fit(merged_train, y_train)\n",
    "y_pred5 = br.predict(merged_test)"
   ]
  },
  {
   "cell_type": "code",
   "execution_count": 129,
   "metadata": {},
   "outputs": [],
   "source": [
    "from scipy.sparse import hstack\n",
    "merged_train = hstack((X_train_exp, X_train_feedback, X_train_qual, X_train_prof, X_train_place, X_train_rating, X_train_misc))\n",
    "merged_test  = hstack((X_test_exp, X_test_feedback, X_test_qual, X_test_prof, X_test_place, X_test_rating, X_test_misc))\n"
   ]
  },
  {
   "cell_type": "code",
   "execution_count": 130,
   "metadata": {},
   "outputs": [
    {
     "data": {
      "text/plain": [
       "((5961, 9981), (1987, 9981))"
      ]
     },
     "execution_count": 130,
     "metadata": {},
     "output_type": "execute_result"
    }
   ],
   "source": [
    "merged_train.shape, merged_test.shape\n"
   ]
  },
  {
   "cell_type": "code",
   "execution_count": 131,
   "metadata": {},
   "outputs": [],
   "source": [
    "from sklearn.ensemble import GradientBoostingRegressor\n",
    "gb = GradientBoostingRegressor(loss='lad', \n",
    "                               learning_rate=0.2, #0.2\n",
    "                               random_state=10, \n",
    "                               n_estimators=92,   \n",
    "                               max_depth=11, #11, \n",
    "                               subsample=1.0, \n",
    "                               min_samples_split=40, \n",
    "                               min_samples_leaf=1,\n",
    "                               max_features='auto')\n",
    "gb.fit(merged_train, y_train)\n",
    "y_pred3 = gb.predict(merged_test)\n"
   ]
  },
  {
   "cell_type": "code",
   "execution_count": 132,
   "metadata": {},
   "outputs": [],
   "source": [
    "from sklearn.ensemble import RandomForestRegressor\n",
    "rf = RandomForestRegressor(n_estimators=29, #25, 29\n",
    "                           criterion='mse', \n",
    "                           max_depth=58, #55, 58\n",
    "                           min_samples_split=5, \n",
    "                           min_samples_leaf=2, \n",
    "                           min_weight_fraction_leaf=0.0, \n",
    "                           max_features='auto', \n",
    "                           max_leaf_nodes=None, \n",
    "                           min_impurity_decrease=0.20, #0.20, \n",
    "                           bootstrap=True, \n",
    "                           oob_score=True, \n",
    "                           n_jobs=-1, \n",
    "                           random_state=11) \n",
    "rf.fit(merged_train, y_train)\n",
    "y_pred4 = rf.predict(merged_test)\n"
   ]
  },
  {
   "cell_type": "code",
   "execution_count": 133,
   "metadata": {},
   "outputs": [
    {
     "data": {
      "text/plain": [
       "((1987,), (1987,), (1987,), (1987,), (1987,))"
      ]
     },
     "execution_count": 133,
     "metadata": {},
     "output_type": "execute_result"
    }
   ],
   "source": [
    "y_pred1.shape, y_pred2.shape, y_pred3.shape, y_pred4.shape, y_pred5.shape\n"
   ]
  },
  {
   "cell_type": "code",
   "execution_count": 134,
   "metadata": {},
   "outputs": [],
   "source": [
    "y_predx = y_pred1*.4 + y_pred2*0.5 + y_pred3*0.10\n",
    "y_predx = y_predx.astype(int)\n"
   ]
  },
  {
   "cell_type": "code",
   "execution_count": 135,
   "metadata": {},
   "outputs": [],
   "source": [
    "y_predy = y_pred1*0.40 + y_pred2*0.45 + y_pred3*0.10 + y_pred5*0.05\n",
    "y_predy = y_predy.astype(int)\n"
   ]
  },
  {
   "cell_type": "code",
   "execution_count": 136,
   "metadata": {},
   "outputs": [],
   "source": [
    "y_pred = y_predx*.98 + y_predy*0.02\n",
    "y_pred = y_pred.astype(int)\n"
   ]
  },
  {
   "cell_type": "markdown",
   "metadata": {},
   "source": [
    "# write predictions to output file"
   ]
  },
  {
   "cell_type": "code",
   "execution_count": 140,
   "metadata": {},
   "outputs": [],
   "source": [
    "df_sub = pd.DataFrame(data=y_pred, columns=['Fees'])\n",
    "writer = pd.ExcelWriter('output74.xlsx', engine='xlsxwriter')\n",
    "df_sub.to_excel(writer,sheet_name='Sheet1', index=False)\n",
    "writer.save()"
   ]
  },
  {
   "cell_type": "markdown",
   "metadata": {},
   "source": [
    "# Evaluation Metric\n"
   ]
  },
  {
   "cell_type": "markdown",
   "metadata": {},
   "source": [
    "\n",
    "\n",
    "Submissions are evaluated on Root-Mean-Squared-Error (RMSE) between the predicted value and observed score values. The final score calculation is done in the following way: Submissions are evaluated on Root-Mean-Squared-Log-Error (RMSLE) error = RMSLE (error) Score = 1 – error\n",
    "\n",
    "\n"
   ]
  }
 ],
 "metadata": {
  "kernelspec": {
   "display_name": "Python 3",
   "language": "python",
   "name": "python3"
  },
  "language_info": {
   "codemirror_mode": {
    "name": "ipython",
    "version": 3
   },
   "file_extension": ".py",
   "mimetype": "text/x-python",
   "name": "python",
   "nbconvert_exporter": "python",
   "pygments_lexer": "ipython3",
   "version": "3.8.3"
  }
 },
 "nbformat": 4,
 "nbformat_minor": 4
}
